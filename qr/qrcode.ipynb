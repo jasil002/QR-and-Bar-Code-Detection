{
 "cells": [
  {
   "cell_type": "code",
   "execution_count": 7,
   "metadata": {},
   "outputs": [],
   "source": [
    "import cv2\n",
    "import numpy as np\n",
    "from pyzbar.pyzbar import decode"
   ]
  },
  {
   "cell_type": "code",
   "execution_count": 8,
   "metadata": {},
   "outputs": [
    {
     "data": {
      "text/plain": [
       "True"
      ]
     },
     "execution_count": 8,
     "metadata": {},
     "output_type": "execute_result"
    }
   ],
   "source": [
    "#img = cv2.imread('1.png')\n",
    "video_capture = cv2.VideoCapture(0)\n",
    "video_capture.set(3,640)\n",
    "video_capture.set(4,480)"
   ]
  },
  {
   "cell_type": "code",
   "execution_count": 9,
   "metadata": {},
   "outputs": [
    {
     "name": "stdout",
     "output_type": "stream",
     "text": [
      "http://tiny.cc/pgdn\n",
      "http://tiny.cc/pgdn\n",
      "http://tiny.cc/pgdn\n",
      "http://tiny.cc/pgdn\n",
      "http://tiny.cc/pgdn\n",
      "http://tiny.cc/pgdn\n",
      "http://tiny.cc/pgdn\n",
      "http://tiny.cc/pgdn\n",
      "http://tiny.cc/pgdn\n",
      "http://tiny.cc/pgdn\n",
      "http://tiny.cc/pgdn\n",
      "http://tiny.cc/pgdn\n",
      "http://tiny.cc/pgdn\n",
      "http://tiny.cc/pgdn\n"
     ]
    }
   ],
   "source": [
    "while True:\n",
    "\n",
    "    success, img = video_capture.read()\n",
    "    for barcode in decode(img):\n",
    "        myData = barcode.data.decode('utf-8')\n",
    "        print(myData)\n",
    "        pts = np.array([barcode.polygon],np.int32)\n",
    "        pts = pts.reshape((-1,1,2))\n",
    "        cv2.polylines(img,[pts],True,(255,0,255),5)\n",
    "        pts2 = barcode.rect\n",
    "        cv2.putText(img,myData,(pts2[0],pts2[1]),cv2.FONT_HERSHEY_SIMPLEX, 0.9,(255,0,255),2)\n",
    "\n",
    "    cv2.imshow('Result',img)\n",
    "    if cv2.waitKey(1) & 0xFF == ord('q'):\n",
    "        break\n",
    "\n",
    "    # Release the video capture object and close the OpenCV windows\n",
    "video_capture.release()\n",
    "cv2.destroyAllWindows()  "
   ]
  }
 ],
 "metadata": {
  "kernelspec": {
   "display_name": "Python 3",
   "language": "python",
   "name": "python3"
  },
  "language_info": {
   "codemirror_mode": {
    "name": "ipython",
    "version": 3
   },
   "file_extension": ".py",
   "mimetype": "text/x-python",
   "name": "python",
   "nbconvert_exporter": "python",
   "pygments_lexer": "ipython3",
   "version": "3.11.5"
  }
 },
 "nbformat": 4,
 "nbformat_minor": 2
}
